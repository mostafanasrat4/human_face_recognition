{
 "cells": [
  {
   "attachments": {},
   "cell_type": "markdown",
   "metadata": {},
   "source": [
    "***\n",
    "# **Human Face Recognition**\n",
    "***"
   ]
  },
  {
   "attachments": {
    "image.png": {
     "image/png": "[encoded data removed]"
    }
   },
   "cell_type": "markdown",
   "metadata": {},
   "source": [
    "## Problem Description\n",
    "\n",
    "- We have a dataset containing a set of face images and need to perform Face Recognition, i.e. classifying the image whether it is a human face or not. \n",
    "\n",
    "- The dataset for this task is presented with images that has been pre-processed by an edge detection algorithm. The task is to determine whether the edge image is a face or not.\n",
    "\n",
    "- So, each pixel in the image is classified to either edge (#) or no edge ( ). These pixel values are represented in the dataset with the two integers (0) for no edge and (2) for an edge.\n",
    "\n",
    "- For instance, the first face in the training dataset will look like as follows:\n",
    "\n",
    "![image.png](attachment:image.png)\n",
    "\n",
    "- Finally, our task is a binary classification one in which we need to classify each image to either non-face image (0), or a face image (1)."
   ]
  },
  {
   "attachments": {},
   "cell_type": "markdown",
   "metadata": {},
   "source": [
    "### Datum Encoding\n",
    "\n",
    "To ease the manipulation of each face image, it will be encoded to a *Datum* object.\n",
    "\n",
    "A datum is a pixel-level encoding method that will be used to represent digit images in an accessible manner.\n",
    "\n",
    "Each face/non-face image is 60x74-pixels image.\n",
    "Each pixel can take one of the following values:\n",
    "\n",
    "-  0: No edge   ( )\n",
    "-  2: Edge      (#)\n",
    "  \n",
    "Pixel data is stored in a 2-dimensional array (pixels), which maps to the original image pixels on a plane with standard euclidean axes .\n",
    "The first array dimension representing the horizontal axes and the second dimension denoting the vertical axes.\n",
    "      \n",
    "The contents of the representation can be accessed directly via the *getPixel()* and *getPixels()* methods."
   ]
  },
  {
   "attachments": {},
   "cell_type": "markdown",
   "metadata": {
    "slideshow": {
     "slide_type": "slide"
    }
   },
   "source": [
    "## 1. Dataset Loading"
   ]
  },
  {
   "attachments": {},
   "cell_type": "markdown",
   "metadata": {},
   "source": [
    "Calling the `getPixels()` method on each datum object will return a `[60][70]` 2-d list.\n",
    "This 2-d list is flattened to a `[4200]` 1-d list using these functions *`loadFacesTrainDataset()`*, *`loadFacesValidDataset()`* and *`loadFacesTestDataset()`*."
   ]
  },
  {
   "cell_type": "code",
   "execution_count": 1,
   "metadata": {},
   "outputs": [],
   "source": [
    "from samples import *\n",
    "def loadFacesTrainDataset(n):\n",
    "  items = [ sum(datum.getPixels(), []) for datum in loadDataFile(\"data/facedata/facedatatrain\", n,60,70) ]\n",
    "  labels = loadLabelsFile(\"data/facedata/facedatatrainlabels\", n)\n",
    "  return np.array(items), np.array(labels)\n",
    "\n",
    "def loadFacesValidDataset(n):\n",
    "  items = [ sum(datum.getPixels(), []) for datum in loadDataFile(\"data/facedata/facedatavalidation\", n,60,70) ]\n",
    "  labels = loadLabelsFile(\"data/facedata/facedatavalidationlabels\", n)\n",
    "  return np.array(items), np.array(labels)\n",
    "\n",
    "def loadFacesTestDataset(n):\n",
    "  items = [ sum(datum.getPixels(), []) for datum in loadDataFile(\"data/facedata/facedatatest\", n,60,70) ]\n",
    "  labels = loadLabelsFile(\"data/facedata/facedatatestlabels\", n)\n",
    "  return np.array(items), np.array(labels)"
   ]
  },
  {
   "attachments": {},
   "cell_type": "markdown",
   "metadata": {},
   "source": [
    "Loading original datasets with total number of features = **4200**"
   ]
  },
  {
   "cell_type": "code",
   "execution_count": 2,
   "metadata": {},
   "outputs": [
    {
     "name": "stdout",
     "output_type": "stream",
     "text": [
      "Initial shape of face datasets (before feature reduction): \n",
      "data_train: (451, 4200), labels_train: (451,)\n",
      "data_valid: (301, 4200), labels_valid: (301,)\n",
      "data_test:  (150, 4200), labels_test:  (150,)\n",
      "data:       (902, 4200), labels:       (902,)\n"
     ]
    }
   ],
   "source": [
    "import numpy as np\n",
    "data_train, labels_train = loadFacesTrainDataset(5000)\n",
    "data_valid, labels_valid = loadFacesValidDataset(1000)\n",
    "data_test, labels_test = loadFacesTestDataset(1000)\n",
    "data = np.concatenate((data_train, data_valid, data_test))\n",
    "labels = np.concatenate((labels_train, labels_valid, labels_test))\n",
    "print('Initial shape of face datasets (before feature reduction): ')\n",
    "print('data_train: ' + str(data_train.shape) + ', labels_train: ' + str(labels_train.shape))\n",
    "print('data_valid: ' + str(data_valid.shape) + ', labels_valid: ' + str(labels_valid.shape))\n",
    "print('data_test:  ' + str(data_test.shape)  + ', labels_test:  ' + str(labels_test.shape))\n",
    "print('data:       ' + str(data.shape) +       ', labels:       ' + str(labels.shape))"
   ]
  },
  {
   "attachments": {},
   "cell_type": "markdown",
   "metadata": {},
   "source": [
    "## 2. KNN Model"
   ]
  },
  {
   "attachments": {},
   "cell_type": "markdown",
   "metadata": {},
   "source": [
    "### 2.1. PCA Dimensionality Reduction"
   ]
  },
  {
   "cell_type": "markdown",
   "metadata": {},
   "source": [
    "\n",
    "We now have our dataset with each record represented with an array of **4200** features, which is a huge number to deal with.\n",
    "\n",
    "So, we will use **PCA Dimensionality Reduction** techniques to reduce the **4200** features down to a smaller (yet informative) set of features.\n",
    "\n",
    "This is imporatnt to **enhance the accuracy of the trained models** due to the use of only informative and useful features."
   ]
  },
  {
   "attachments": {},
   "cell_type": "markdown",
   "metadata": {},
   "source": [
    "We used the *`PCA()`* class from the *`scikit-learn`* library. To use this class, we pass only one argument *`n_components`* which is the no of  features to keep after performing reduction."
   ]
  },
  {
   "cell_type": "code",
   "execution_count": 3,
   "metadata": {},
   "outputs": [],
   "source": [
    "from sklearn.decomposition import PCA\n",
    "\n",
    "pca = PCA(n_components=100)\n",
    "\n",
    "pca.fit(data)\n",
    "\n",
    "reduced_data = pca.transform(data)\n",
    "# print(reduced_data.shape)"
   ]
  },
  {
   "attachments": {},
   "cell_type": "markdown",
   "metadata": {},
   "source": [
    "### 2.2. Determining optimum no of PCA components"
   ]
  },
  {
   "attachments": {},
   "cell_type": "markdown",
   "metadata": {},
   "source": [
    "Instead of selecting a random value for *`n_components`*, we determined its optimum value by trial.\n",
    "\n",
    "This was done by assigning different values in the range of **[10, 100]** for the parameter *`n_compoenents`*.\n",
    "A PCA transform is performed with each *`n_compoenents`* and then train and test a KNN model on these new reduced datasets.\n",
    "\n",
    "This process is implemented as a *`Pipeline`*, where the first step performs the PCA transform, and the second step fits the KNN model to the datasets.\n"
   ]
  },
  {
   "cell_type": "code",
   "execution_count": 4,
   "metadata": {},
   "outputs": [],
   "source": [
    "from sklearn.decomposition import PCA\n",
    "from sklearn.neighbors import KNeighborsClassifier\n",
    "from sklearn.pipeline import Pipeline\n",
    "\n",
    "# Return a set of PCA-KNN pipeline models each with different n_components value\n",
    "def get_pca_models(start, end, steps, pipeline_model):\n",
    "    models = dict()\n",
    "    for i in range (start, end, steps):\n",
    "        steps = [ ('pca', PCA(n_components=i)), ('m', pipeline_model) ]\n",
    "        models[str(i)] = Pipeline(steps=steps)\n",
    "    return models"
   ]
  },
  {
   "attachments": {},
   "cell_type": "markdown",
   "metadata": {},
   "source": [
    "Hence, each pipeline will be evaluated using **Repeated Stratified Cross-Validation (RSCV)** with 3 repeats and 10 folds per repeat. \n",
    "\n",
    "Performance of each pipeline is presented as the **mean classification accuracy**."
   ]
  },
  {
   "cell_type": "code",
   "execution_count": 5,
   "metadata": {},
   "outputs": [],
   "source": [
    "from sklearn.model_selection import RepeatedStratifiedKFold, cross_val_score\n",
    "\n",
    "# Apply Repeated Stratified Cross-Validation (RSCV) with 3 repeats and 10 folds per repeat\n",
    "# Then return the accuracy scores for the given model\n",
    "def evaluate_pca_model(model, data, labels):\n",
    "    cv = RepeatedStratifiedKFold(n_splits=10, n_repeats=3, random_state=1)\n",
    "    scores = cross_val_score(model, data, labels, cv=cv, scoring='accuracy', n_jobs=-1)\n",
    "    return scores*100"
   ]
  },
  {
   "attachments": {},
   "cell_type": "markdown",
   "metadata": {},
   "source": [
    "Finally, we will have the model accuracy for each *`n_compoenents`* value represented in a boxplot to determine the optimum no of features"
   ]
  },
  {
   "cell_type": "code",
   "execution_count": 6,
   "metadata": {},
   "outputs": [],
   "source": [
    "from numpy import mean, std\n",
    "import matplotlib.pyplot as plt\n",
    "\n",
    "# Evaluate the accuracy of all the passed models and display a boxplot of these accuracies\n",
    "# Returns the optimimum no of PCA components that gives highest accuracy\n",
    "def evaluate_pca_models(models):\n",
    "    acc_scores, values = [], []\n",
    "    max_acc_score = 0\n",
    "    opt_n_components = 0\n",
    "    print('n_components    Accuracy (mean)      Accuracy (std)')\n",
    "    for n_components, model in models.items():\n",
    "        acc_score = evaluate_pca_model(model, data, labels) # Returns a list of accuracy scores got from the cross-validation procedure\n",
    "        acc_scores.append(acc_score)\n",
    "        values.append(n_components)\n",
    "        if(mean(acc_score) > max_acc_score):\n",
    "            max_acc_score = mean(acc_score)\n",
    "            opt_n_components = int(n_components)\n",
    "        print('    %s             %.3f %%             %.3f' % (n_components, mean(acc_score), std(acc_score)))\n",
    "    # plot the collected results on a box plot\n",
    "    plt.boxplot(acc_scores, labels=values, showmeans=True)\n",
    "    plt.xticks(rotation=45)\n",
    "    plt.show()\n",
    "    return opt_n_components, max_acc_score\n"
   ]
  },
  {
   "attachments": {},
   "cell_type": "markdown",
   "metadata": {},
   "source": [
    "Trying PCA transform with no of components in the range [10, 100]"
   ]
  },
  {
   "cell_type": "code",
   "execution_count": 7,
   "metadata": {},
   "outputs": [
    {
     "name": "stdout",
     "output_type": "stream",
     "text": [
      "n_components    Accuracy (mean)      Accuracy (std)\n",
      "    10             86.179 %             3.422\n",
      "    20             83.705 %             2.247\n",
      "    30             76.755 %             4.165\n",
      "    40             69.180 %             3.736\n",
      "    50             64.525 %             2.985\n",
      "    60             61.641 %             2.859\n",
      "    70             59.685 %             2.856\n",
      "    80             58.313 %             2.195\n",
      "    90             58.389 %             1.584\n",
      "    100             57.208 %             2.139\n"
     ]
    },
    {
     "data": {
      "image/png": "[encoded data removed]",
      "text/plain": [
       "<Figure size 432x288 with 1 Axes>"
      ]
     },
     "metadata": {
      "needs_background": "light"
     },
     "output_type": "display_data"
    },
    {
     "name": "stdout",
     "output_type": "stream",
     "text": [
      "Initial no of components for KNN model: 10, with accuracy 86.179\n",
      "\n",
      "\n"
     ]
    }
   ],
   "source": [
    "# Create pca models with n_components 10, 20, 30, ..., 100\n",
    "pca_knn_models = get_pca_models(10, 101, 10, KNeighborsClassifier())                                        \n",
    "\n",
    "opt_n_components_knn, max_acc = evaluate_pca_models(pca_knn_models)\n",
    "\n",
    "print('Initial no of components for KNN model: %d, with accuracy %.3f\\n\\n' % (opt_n_components_knn, max_acc))"
   ]
  },
  {
   "attachments": {},
   "cell_type": "markdown",
   "metadata": {},
   "source": [
    "Trying PCA transform again with narrower range for no of components, to get the exact optimum value"
   ]
  },
  {
   "cell_type": "code",
   "execution_count": 8,
   "metadata": {},
   "outputs": [
    {
     "name": "stdout",
     "output_type": "stream",
     "text": [
      "n_components    Accuracy (mean)      Accuracy (std)\n",
      "    5             83.222 %             4.051\n",
      "    6             83.698 %             4.114\n",
      "    7             83.112 %             3.881\n",
      "    8             85.032 %             3.547\n",
      "    9             85.994 %             3.115\n",
      "    10             85.993 %             3.827\n",
      "    11             85.847 %             3.731\n",
      "    12             86.991 %             3.716\n",
      "    13             86.327 %             3.400\n",
      "    14             86.256 %             2.629\n",
      "    15             84.922 %             2.713\n"
     ]
    },
    {
     "data": {
      "image/png": "[encoded data removed]",
      "text/plain": [
       "<Figure size 432x288 with 1 Axes>"
      ]
     },
     "metadata": {
      "needs_background": "light"
     },
     "output_type": "display_data"
    },
    {
     "name": "stdout",
     "output_type": "stream",
     "text": [
      "Best no of components for KNN model: 12, with accuracy 86.991\n",
      "\n",
      "\n"
     ]
    }
   ],
   "source": [
    "\n",
    "# Repeat the process with narrower range to get the precise n_components\n",
    "pca_knn_models = get_pca_models(opt_n_components_knn-5, opt_n_components_knn+6, 1, KNeighborsClassifier())\n",
    "\n",
    "opt_n_components_knn, max_acc = evaluate_pca_models(pca_knn_models)\n",
    "\n",
    "print('Best no of components for KNN model: %d, with accuracy %.3f\\n\\n' % (opt_n_components_knn, max_acc))\n"
   ]
  },
  {
   "attachments": {},
   "cell_type": "markdown",
   "metadata": {},
   "source": [
    "### 2.3. Apply PCA with optimum no. of components"
   ]
  },
  {
   "attachments": {},
   "cell_type": "markdown",
   "metadata": {},
   "source": [
    "Perform PCA on dataset with calculated optimum no of components"
   ]
  },
  {
   "cell_type": "code",
   "execution_count": 9,
   "metadata": {},
   "outputs": [
    {
     "name": "stdout",
     "output_type": "stream",
     "text": [
      "data_train: (451, 12), labels_train: (451,)\n",
      "data_valid: (301, 12), labels_valid: (301,)\n",
      "data_valid: (150, 12), labels_valid: (150,)\n",
      "data:       (902, 12), labels:       (902,)\n"
     ]
    }
   ],
   "source": [
    "# Applying PCA on the three dataset splits (train, valid, test) with calculated optimum no of components\n",
    "from sklearn.decomposition import PCA\n",
    "\n",
    "pca = PCA(n_components=opt_n_components_knn)\n",
    "pca.fit(data)\n",
    "\n",
    "data_train_knn = pca.transform(data_train)\n",
    "data_valid_knn = pca.transform(data_valid)\n",
    "data_test_knn = pca.transform(data_test)\n",
    "data_knn = pca.transform(data)\n",
    "print('data_train: ' + str(data_train_knn.shape) + ', labels_train: ' + str(labels_train.shape))\n",
    "print('data_valid: ' + str(data_valid_knn.shape) + ', labels_valid: ' + str(labels_valid.shape))\n",
    "print('data_valid: ' + str(data_test_knn.shape)  + ', labels_valid: ' + str(labels_test.shape))\n",
    "print('data:       ' + str(data_knn.shape)       + ', labels:       ' + str(labels.shape))"
   ]
  },
  {
   "attachments": {},
   "cell_type": "markdown",
   "metadata": {},
   "source": [
    "### 2.4. Tuning KNN Model Hyperparameters"
   ]
  },
  {
   "attachments": {},
   "cell_type": "markdown",
   "metadata": {},
   "source": [
    "***\n",
    "**There are two main hyperparameters in the KNN model, *`K`* and  *`distance metric`*, which can be manipulated to enhance the model accuracy**\n",
    "***"
   ]
  },
  {
   "attachments": {},
   "cell_type": "markdown",
   "metadata": {},
   "source": [
    "- ***`K:`***"
   ]
  },
  {
   "attachments": {},
   "cell_type": "markdown",
   "metadata": {},
   "source": [
    "\n",
    "The best value for K can be found by algorithm tuning. And because we have an even number of classes (**10 classes: [0-9]**), we will choose a K value with an odd number to avoid a tie.\n",
    "\n",
    "**So, we will try many different odd values for K (from 3 to 201)**"
   ]
  },
  {
   "attachments": {},
   "cell_type": "markdown",
   "metadata": {},
   "source": [
    "- ***`Distance Metric:`***"
   ]
  },
  {
   "attachments": {},
   "cell_type": "markdown",
   "metadata": {},
   "source": [
    "In our implementation, we will use *`Euclidean Distance`*, ***Manhattan Distance***, ***Cosine Distance*** to discover which of them are most suitable for out digit dataset.\n",
    "\n",
    "- Euclidean Distance:\n",
    "\n",
    "![Euclidean Distance Rule](https://www.kdnuggets.com/wp-content/uploads/popular-knn-metrics-5.jpg)\n",
    "\n",
    "- Manhattan Distance:\n",
    "\n",
    "![Manhattan Distance Rule](https://www.kdnuggets.com/wp-content/uploads/popular-knn-metrics-3.jpg)\n",
    "\n",
    "- Cosine Distance:\n",
    "\n",
    "![Cosine Distance Rule](https://www.kdnuggets.com/wp-content/uploads/popular-knn-metrics-6.png)\n"
   ]
  },
  {
   "attachments": {},
   "cell_type": "markdown",
   "metadata": {},
   "source": [
    "We will experiment with different distance metrics and different values of K together and see which mix results in the most accurate model.\n",
    "\n",
    "This will be done by using the *`KNeighborsClassifier()`* class from the *`scikit-learn`* library. "
   ]
  },
  {
   "cell_type": "code",
   "execution_count": 10,
   "metadata": {},
   "outputs": [],
   "source": [
    "from sklearn.neighbors import KNeighborsClassifier\n",
    "from sklearn.metrics import accuracy_score\n",
    "import matplotlib.pyplot as plt\n",
    "\n",
    "\n",
    "# Create a knn model with specified K and distance metric\n",
    "# Fit the knn model with training dataset (X, y), then test it with X_test\n",
    "# Returns the accuracy score after testing the model\n",
    "def knn_test(X, y, X_test, y_test, K, metric):\n",
    "    knn = KNeighborsClassifier(n_neighbors=K, metric=metric, n_jobs=-1)\n",
    "    knn.fit(X, y)\n",
    "    y_pred = knn.predict(X_test)\n",
    "    acc_score = accuracy_score(y_test, y_pred)\n",
    "    # print('Metric: %s,      K: %d,      accuracy: %.6f' % (metric, K, acc_score))\n",
    "    return acc_score*100\n"
   ]
  },
  {
   "cell_type": "code",
   "execution_count": 11,
   "metadata": {},
   "outputs": [],
   "source": [
    "# Create knn models with the given metric and k values within the given range\n",
    "# Plot each of the models against its accuracy score (to find the best K value) \n",
    "def knn_explore_K_metric_comb(metric: str, k_values: list):\n",
    "    print('(%s Distance Method) with (K values [3-200])' % (metric.upper()))\n",
    "    print('----------------------------------------------------------------')\n",
    "    acc_scores = []\n",
    "    k_opt = 0\n",
    "    max_acc_score = 0\n",
    "    for k in k_values:\n",
    "        acc_score = knn_test(data_train, labels_train, data_valid, labels_valid, k, metric)\n",
    "        acc_scores.append(acc_score)\n",
    "        if (acc_score > max_acc_score):\n",
    "            max_acc_score = acc_score\n",
    "            k_opt = k\n",
    "    plt.plot(k_values, acc_scores, 'b--')\n",
    "    plt.title(metric.upper() + ' Distance with K values [3 - 200]')\n",
    "    plt.xlabel('K (No of Neighbors)')\n",
    "    plt.ylabel('Model Accuracy (%)')\n",
    "    plt.show()\n",
    "    print('Best K value for %s distance is %d , with accuracy %.3f %%' % (str(metric), k_opt, max_acc_score))\n",
    "    ('----------------------------------------------------------------')\n",
    "    return acc_scores"
   ]
  },
  {
   "attachments": {},
   "cell_type": "markdown",
   "metadata": {},
   "source": [
    "**Explore the KNN models accuracies with K values **([3,200])** with the three metrics **(euclidean, manhattan, cosine)****"
   ]
  },
  {
   "cell_type": "code",
   "execution_count": 12,
   "metadata": {},
   "outputs": [
    {
     "name": "stdout",
     "output_type": "stream",
     "text": [
      "(EUCLIDEAN Distance Method) with (K values [3-200])\n",
      "----------------------------------------------------------------\n"
     ]
    },
    {
     "data": {
      "image/png": "[encoded data removed]",
      "text/plain": [
       "<Figure size 432x288 with 1 Axes>"
      ]
     },
     "metadata": {
      "needs_background": "light"
     },
     "output_type": "display_data"
    },
    {
     "name": "stdout",
     "output_type": "stream",
     "text": [
      "Best K value for euclidean distance is 107 , with accuracy 81.728 %\n",
      "(CITYBLOCK Distance Method) with (K values [3-200])\n",
      "----------------------------------------------------------------\n"
     ]
    },
    {
     "data": {
      "image/png": "[encoded data removed]",
      "text/plain": [
       "<Figure size 432x288 with 1 Axes>"
      ]
     },
     "metadata": {
      "needs_background": "light"
     },
     "output_type": "display_data"
    },
    {
     "name": "stdout",
     "output_type": "stream",
     "text": [
      "Best K value for cityblock distance is 107 , with accuracy 81.728 %\n",
      "(COSINE Distance Method) with (K values [3-200])\n",
      "----------------------------------------------------------------\n"
     ]
    },
    {
     "data": {
      "image/png": "[encoded data removed]",
      "text/plain": [
       "<Figure size 432x288 with 1 Axes>"
      ]
     },
     "metadata": {
      "needs_background": "light"
     },
     "output_type": "display_data"
    },
    {
     "name": "stdout",
     "output_type": "stream",
     "text": [
      "Best K value for cosine distance is 3 , with accuracy 92.027 %\n"
     ]
    },
    {
     "data": {
      "image/png": "[encoded data removed]",
      "text/plain": [
       "<Figure size 432x288 with 1 Axes>"
      ]
     },
     "metadata": {
      "needs_background": "light"
     },
     "output_type": "display_data"
    }
   ],
   "source": [
    "# Explore the three distance methods 'euclidean', 'manhattan', and 'cosine'\n",
    "# Combinations of each method with K values in range [3- 200] are explored and plotted together\n",
    "\n",
    "k_values = list(range(3, 200, 2)) \n",
    "metrics = ['euclidean', 'cityblock', 'cosine'] # cityblock = manhattan\n",
    "acc_scores = {}\n",
    "for metric in metrics:\n",
    "    acc_scores[metric] = knn_explore_K_metric_comb(metric, k_values)\n",
    "\n",
    "plt.plot(k_values, acc_scores['euclidean'], 'o-m', label='euclidean')\n",
    "plt.plot(k_values, acc_scores['cityblock'], 's-b', label='manhattan')\n",
    "plt.plot(k_values, acc_scores['cosine'], '^-g', label='cosine')\n",
    "plt.legend()\n",
    "plt.title('K-Distance combinations for KNN model')\n",
    "plt.xlabel('K (No of Neighbors)')\n",
    "plt.ylabel('Model Accuracy (%)')\n",
    "plt.show()\n",
    "\n",
    "\n"
   ]
  },
  {
   "attachments": {},
   "cell_type": "markdown",
   "metadata": {},
   "source": [
    "***\n",
    "**Best `K value` = 3**\n",
    "\n",
    "**Best `distance metric` = *cosine***\n",
    "\n",
    "**Best `Model Accuracy` = 92.027 %**\n",
    "\n",
    "***"
   ]
  },
  {
   "attachments": {},
   "cell_type": "markdown",
   "metadata": {},
   "source": [
    "### 2.5 Training and Testing KNN Model with optimal hyperparameters"
   ]
  },
  {
   "attachments": {},
   "cell_type": "markdown",
   "metadata": {},
   "source": [
    "The KNN model will be trained with the *`facedatatrain`* dataset, and tested against the *`facedatatest`* dataset"
   ]
  },
  {
   "cell_type": "code",
   "execution_count": 13,
   "metadata": {},
   "outputs": [
    {
     "name": "stdout",
     "output_type": "stream",
     "text": [
      "Metric: cosine,      K: 3,      Accuracy: 92.667 %\n"
     ]
    }
   ],
   "source": [
    "from sklearn.neighbors import KNeighborsClassifier\n",
    "\n",
    "K = 3\n",
    "METRIC = 'cosine'\n",
    "knn = KNeighborsClassifier(n_neighbors=K, metric=METRIC, n_jobs=-1)\n",
    "knn.fit(data_train, labels_train)\n",
    "labels_pred_knn = knn.predict(data_test)\n",
    "acc_score_knn = accuracy_score(labels_test, labels_pred_knn)*100\n",
    "print('Metric: %s,      K: %d,      Accuracy: %.3f %%' % (METRIC, K, acc_score_knn))"
   ]
  },
  {
   "attachments": {},
   "cell_type": "markdown",
   "metadata": {},
   "source": [
    "***\n",
    "**KNN Model accuracy is 92.667 %**\n",
    "***"
   ]
  },
  {
   "attachments": {},
   "cell_type": "markdown",
   "metadata": {},
   "source": [
    "."
   ]
  },
  {
   "attachments": {},
   "cell_type": "markdown",
   "metadata": {},
   "source": [
    "."
   ]
  },
  {
   "attachments": {},
   "cell_type": "markdown",
   "metadata": {},
   "source": [
    "## 3. Gaussian Naive-Bayes Model"
   ]
  },
  {
   "attachments": {},
   "cell_type": "markdown",
   "metadata": {},
   "source": [
    "### 3.1. PCA Dimensionality Reduction"
   ]
  },
  {
   "attachments": {},
   "cell_type": "markdown",
   "metadata": {},
   "source": [
    "We will need to perform PCA transform again because the optimum no of PCA components for the KNN model is not necessarily the same for the Naive Bayes model."
   ]
  },
  {
   "attachments": {},
   "cell_type": "markdown",
   "metadata": {},
   "source": [
    "### 3.2. Determining optimum no of PCA components"
   ]
  },
  {
   "attachments": {},
   "cell_type": "markdown",
   "metadata": {},
   "source": [
    "Trying PCA transform in the same way we did before using the `*get_pca_models()*` and `evaluate_pca_models()` functions with no of components in the range **[10, 100]**"
   ]
  },
  {
   "cell_type": "code",
   "execution_count": 14,
   "metadata": {},
   "outputs": [
    {
     "name": "stdout",
     "output_type": "stream",
     "text": [
      "n_components    Accuracy (mean)      Accuracy (std)\n",
      "    10             79.632 %             4.173\n",
      "    20             86.696 %             3.652\n",
      "    30             87.438 %             2.969\n",
      "    40             88.473 %             2.828\n",
      "    50             88.103 %             2.919\n",
      "    60             84.585 %             4.511\n",
      "    70             76.418 %             5.466\n",
      "    80             69.693 %             4.862\n",
      "    90             62.670 %             3.664\n",
      "    100             59.753 %             3.325\n"
     ]
    },
    {
     "data": {
      "image/png": "[encoded data removed]",
      "text/plain": [
       "<Figure size 432x288 with 1 Axes>"
      ]
     },
     "metadata": {
      "needs_background": "light"
     },
     "output_type": "display_data"
    },
    {
     "name": "stdout",
     "output_type": "stream",
     "text": [
      "----------------------------------------------------------------\n",
      "Initial no of components for Naive Bayes model: 40, with accuracy 88.473\n",
      "\n",
      "\n"
     ]
    }
   ],
   "source": [
    "from sklearn.naive_bayes import GaussianNB\n",
    "\n",
    "# Create pca models with n_components 10, 20, 30, ..., 100\n",
    "pca_bayes_models = get_pca_models(10, 101, 10, GaussianNB())                                         ###########################################\n",
    "opt_n_components_bayes, max_acc = evaluate_pca_models(pca_bayes_models)\n",
    "print('----------------------------------------------------------------')\n",
    "print('Initial no of components for Naive Bayes model: %d, with accuracy %.3f\\n\\n' % (opt_n_components_bayes, max_acc))\n"
   ]
  },
  {
   "attachments": {},
   "cell_type": "markdown",
   "metadata": {},
   "source": [
    "Trying PCA transfrom again with narrower range for no of components, to get the optimum value"
   ]
  },
  {
   "cell_type": "code",
   "execution_count": 15,
   "metadata": {},
   "outputs": [
    {
     "name": "stdout",
     "output_type": "stream",
     "text": [
      "n_components    Accuracy (mean)      Accuracy (std)\n",
      "    35             87.884 %             3.561\n",
      "    36             87.143 %             2.926\n",
      "    37             87.772 %             3.038\n",
      "    38             87.957 %             3.228\n",
      "    39             87.588 %             3.110\n",
      "    40             87.884 %             3.518\n",
      "    41             87.955 %             2.774\n",
      "    42             88.547 %             2.811\n",
      "    43             88.731 %             3.672\n",
      "    44             88.586 %             3.133\n",
      "    45             88.696 %             2.672\n"
     ]
    },
    {
     "data": {
      "image/png": "[encoded data removed]",
      "text/plain": [
       "<Figure size 432x288 with 1 Axes>"
      ]
     },
     "metadata": {
      "needs_background": "light"
     },
     "output_type": "display_data"
    },
    {
     "name": "stdout",
     "output_type": "stream",
     "text": [
      "----------------------------------------------------------------\n",
      "Best no of components for Naive Bayes model: 43, with accuracy 88.731\n",
      "\n",
      "\n"
     ]
    }
   ],
   "source": [
    "\n",
    "# Repeat the process with narrower range to get the precise n_components\n",
    "pca_bayes_models = get_pca_models(opt_n_components_bayes-5, opt_n_components_bayes+6, 1, GaussianNB())    ############################################\n",
    "opt_n_components_bayes, max_acc = evaluate_pca_models(pca_bayes_models)\n",
    "print('----------------------------------------------------------------')\n",
    "print('Best no of components for Naive Bayes model: %d, with accuracy %.3f\\n\\n' % (opt_n_components_bayes, max_acc))\n"
   ]
  },
  {
   "attachments": {},
   "cell_type": "markdown",
   "metadata": {},
   "source": [
    "### 3.3. Applying PCA Feature Reduction"
   ]
  },
  {
   "cell_type": "code",
   "execution_count": 16,
   "metadata": {},
   "outputs": [
    {
     "name": "stdout",
     "output_type": "stream",
     "text": [
      "data_train: (451, 43), labels_train: (451,)\n",
      "data_valid: (301, 43), labels_valid: (301,)\n",
      "data_valid: (150, 43), labels_valid: (150,)\n",
      "data        (902, 43), labels:       (902,)\n"
     ]
    }
   ],
   "source": [
    "# Applying PCA on the three dataset splits (train, valid, test) with optimum no of components\n",
    "from sklearn.decomposition import PCA\n",
    "\n",
    "pca = PCA(n_components=opt_n_components_bayes)\n",
    "pca.fit(data)\n",
    "\n",
    "data_train_bayes = pca.transform(data_train)\n",
    "data_valid_bayes = pca.transform(data_valid)\n",
    "data_test_bayes = pca.transform(data_test)\n",
    "data_bayes = pca.transform(data)\n",
    "\n",
    "print('data_train: ' + str(data_train_bayes.shape) + ', labels_train: ' + str(labels_train.shape))\n",
    "print('data_valid: ' + str(data_valid_bayes.shape) + ', labels_valid: ' + str(labels_valid.shape))\n",
    "print('data_valid: ' + str(data_test_bayes.shape)  + ', labels_valid: ' + str(labels_test.shape))\n",
    "print('data        ' + str(data_bayes.shape)       + ', labels:       ' + str(labels.shape))\n"
   ]
  },
  {
   "attachments": {},
   "cell_type": "markdown",
   "metadata": {},
   "source": [
    "### 3.4. Training and Testing a Naive-Bayes Model"
   ]
  },
  {
   "attachments": {},
   "cell_type": "markdown",
   "metadata": {},
   "source": [
    "Training a naive Bayes model is easy and fast because there are no hyperparameters to set.\n",
    "\n",
    "So, we will direcly create a model using the class `*GaussianNB()*` from the `*scikit-learn*` library\n"
   ]
  },
  {
   "cell_type": "code",
   "execution_count": 17,
   "metadata": {},
   "outputs": [
    {
     "name": "stdout",
     "output_type": "stream",
     "text": [
      "Naive-Bayes Model Accuracy: 88.000 %\n"
     ]
    }
   ],
   "source": [
    "from sklearn.naive_bayes import GaussianNB\n",
    "\n",
    "naive_bayes = GaussianNB()\n",
    "naive_bayes.fit(data_train, labels_train)\n",
    "labels_pred_bayes = naive_bayes.predict(data_test)\n",
    "acc_score_bayes = accuracy_score(labels_test, labels_pred_bayes)*100\n",
    "print('Naive-Bayes Model Accuracy: %.3f %%' % (acc_score_bayes))\n",
    "\n",
    "\n"
   ]
  },
  {
   "attachments": {},
   "cell_type": "markdown",
   "metadata": {},
   "source": [
    "***\n",
    "**Naive-Bayes Model accuracy is 88.000 %**\n",
    "***"
   ]
  },
  {
   "attachments": {},
   "cell_type": "markdown",
   "metadata": {},
   "source": [
    "."
   ]
  },
  {
   "attachments": {},
   "cell_type": "markdown",
   "metadata": {},
   "source": [
    "."
   ]
  },
  {
   "attachments": {},
   "cell_type": "markdown",
   "metadata": {},
   "source": [
    "# 4. Decision Trees"
   ]
  },
  {
   "cell_type": "code",
   "execution_count": 18,
   "metadata": {},
   "outputs": [
    {
     "name": "stdout",
     "output_type": "stream",
     "text": [
      "For depth = 1\n",
      "Accuracy = 54.67 %\n",
      "For depth = 21\n",
      "Accuracy = 66.00 %\n",
      "For depth = 41\n",
      "Accuracy = 66.00 %\n",
      "For depth = 61\n",
      "Accuracy = 66.00 %\n",
      "For depth = 81\n",
      "Accuracy = 66.00 %\n",
      "For depth = 101\n",
      "Accuracy = 66.00 %\n",
      "For depth = 121\n",
      "Accuracy = 66.00 %\n",
      "For depth = 141\n",
      "Accuracy = 66.00 %\n",
      "For depth = 161\n",
      "Accuracy = 66.00 %\n",
      "For depth = 181\n",
      "Accuracy = 66.00 %\n",
      "For depth = 201\n",
      "Accuracy = 66.00 %\n",
      "-------------------------------\n",
      "Best max depth = 201\n",
      "with accuracy = 66.00 %\n"
     ]
    },
    {
     "data": {
      "image/png": "[encoded data removed]",
      "text/plain": [
       "<Figure size 432x288 with 1 Axes>"
      ]
     },
     "metadata": {
      "needs_background": "light"
     },
     "output_type": "display_data"
    },
    {
     "data": {
      "text/plain": [
       "'Best decision tree.pdf'"
      ]
     },
     "execution_count": 18,
     "metadata": {},
     "output_type": "execute_result"
    }
   ],
   "source": [
    "from sklearn.tree import DecisionTreeClassifier\n",
    "import graphviz\n",
    "from sklearn import tree\n",
    "from samples import *\n",
    "import matplotlib.pyplot as plt\n",
    "\n",
    "max_depth = 0\n",
    "best_decision_tree = None\n",
    "depths, accs = [], []\n",
    "for depth in range(1, 202, 20):\n",
    "    decision_tree = DecisionTreeClassifier(random_state=0, criterion='entropy', max_depth=depth)\n",
    "    decision_tree = decision_tree.fit(data_train, labels_train)\n",
    "    print(\"For depth = \" + str(depth))\n",
    "    acc = decision_tree.score(data_test, labels_test)*100\n",
    "    print(\"Accuracy = %.2f %%\" % (acc))\n",
    "    if max_depth < depth:\n",
    "        max_depth = depth\n",
    "        best_decision_tree = decision_tree\n",
    "    depths.append(depth)\n",
    "    accs.append(acc)\n",
    "\n",
    "print('-------------------------------')\n",
    "print(\"Best max depth = \" + str(max_depth))\n",
    "print(\"with accuracy = %.2f %%\" % (best_decision_tree.score(data_test, labels_test)*100))\n",
    "\n",
    "plt.plot(depths, accs, 'b--')\n",
    "plt.title( 'Max depth vs Accuracy for Decision Tree Classifier')\n",
    "plt.xlabel('Depth')\n",
    "plt.ylabel('Accuracy (%)')\n",
    "plt.show()\n",
    "\n",
    "dot_data = tree.export_graphviz(best_decision_tree,\n",
    "                                out_file=None,\n",
    "                                filled=True,\n",
    "                                rounded=True,\n",
    "                                special_characters=True)\n",
    "graph = graphviz.Source(dot_data)\n",
    "graph.render(\"Best decision tree\")\n"
   ]
  },
  {
   "attachments": {},
   "cell_type": "markdown",
   "metadata": {},
   "source": [
    "# 5. SVM (Support Vector Machine)"
   ]
  },
  {
   "cell_type": "code",
   "execution_count": 19,
   "metadata": {},
   "outputs": [
    {
     "name": "stdout",
     "output_type": "stream",
     "text": [
      "Kernel: linear\n",
      "Accuracy: 90.00 \n",
      "\n",
      "Kernel: rbf\n",
      "Accuracy: 90.00 \n",
      "\n",
      "Kernel: sigmoid\n",
      "Accuracy: 89.33 \n",
      "\n"
     ]
    }
   ],
   "source": [
    "from sklearn import svm\n",
    "from samples import *\n",
    "\n",
    "# values for kernel hyperparameter\n",
    "kernels = ['linear', 'rbf', 'sigmoid']\n",
    "\n",
    "for kernel in kernels:\n",
    "    clf = svm.SVC(kernel=kernel)\n",
    "    clf.fit(data_train, labels_train)\n",
    "    print(\"Kernel: \" + kernel)\n",
    "    print('Accuracy: %.2f ' % (clf.score(data_test, labels_test)*100) )\n",
    "    print()\n"
   ]
  },
  {
   "attachments": {},
   "cell_type": "markdown",
   "metadata": {},
   "source": [
    "# 6. MLP (Multi-layer Perceptron)"
   ]
  },
  {
   "cell_type": "code",
   "execution_count": 20,
   "metadata": {},
   "outputs": [
    {
     "name": "stderr",
     "output_type": "stream",
     "text": [
      "c:\\Python310\\lib\\site-packages\\sklearn\\neural_network\\_multilayer_perceptron.py:709: UserWarning: Training interrupted by user.\n",
      "  warnings.warn(\"Training interrupted by user.\")\n"
     ]
    }
   ],
   "source": [
    "from sklearn.neural_network import MLPClassifier\n",
    "from samples import *\n",
    "\n",
    "max = 0\n",
    "x = \"\"\n",
    "activation_functions = [\"identity\", \"logistic\", \"tanh\", \"relu\"]\n",
    "for act in activation_functions:\n",
    "    for hdn in range(1, 302, 20):\n",
    "        for epochs in range(200, 501, 20):\n",
    "            clf = MLPClassifier(hidden_layer_sizes=hdn, random_state=0, max_iter=epochs, activation=act).fit(data_train, labels_train)\n",
    "            if max < clf.score(data_test, labels_test):\n",
    "                x = \"hidden layers=\" + str(hdn) + \", number of epochs = \" + str(\n",
    "                    epochs) + \", activation function is \" + str(act)\n",
    "                max = clf.score(data_test, labels_test)\n",
    "\n",
    "print(\"the best accuracy is \" + str(max*100) + \" % \")\n",
    "print(\"with these hyperparameters: \" + x)"
   ]
  }
 ],
 "metadata": {
  "kernelspec": {
   "display_name": "Python 3",
   "language": "python",
   "name": "python3"
  },
  "language_info": {
   "codemirror_mode": {
    "name": "ipython",
    "version": 3
   },
   "file_extension": ".py",
   "mimetype": "text/x-python",
   "name": "python",
   "nbconvert_exporter": "python",
   "pygments_lexer": "ipython3",
   "version": "3.10.3"
  },
  "orig_nbformat": 4,
  "vscode": {
   "interpreter": {
    "hash": "369f2c481f4da34e4445cda3fffd2e751bd1c4d706f27375911949ba6bb62e1c"
   }
  }
 },
 "nbformat": 4,
 "nbformat_minor": 2
}
